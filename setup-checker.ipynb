{
 "cells": [
  {
   "cell_type": "markdown",
   "metadata": {},
   "source": [
    "# Environment Setup Checker\n",
    "\n",
    "this notebook is used to check the environment setup of the user.\n",
    "\n",
    "it will check the following:\n",
    "- python version\n",
    "- pip version\n",
    "- conda version\n",
    "- environment\n",
    "- git version\n",
    "- jupyter version"
   ]
  },
  {
   "cell_type": "code",
   "execution_count": 5,
   "metadata": {},
   "outputs": [],
   "source": [
    "import sys\n",
    "import os\n",
    "import subprocess"
   ]
  },
  {
   "cell_type": "code",
   "execution_count": 6,
   "metadata": {},
   "outputs": [],
   "source": [
    "class SetupCheck:\n",
    "  def __init__(self, name):\n",
    "    self.name = name\n",
    "\n",
    "  def check_setup(self):\n",
    "    print(f\"Checking setup for {self.name}\")\n",
    "    self.check_python()\n",
    "    self.check_pip()\n",
    "    self.check_conda()\n",
    "    self.check_environment()\n",
    "    self.check_git()\n",
    "    self.check_jupyter()\n",
    "\n",
    "  def check_python(self):\n",
    "    # current python version\n",
    "    print(f\"Current python version: {sys.version}\")\n",
    "\n",
    "  def check_pip(self):\n",
    "    # current pip version\n",
    "    try:\n",
    "      result = subprocess.run(['pip', '--version'], capture_output=True, text=True)\n",
    "      print(f\"Current pip version: {result.stdout.strip()}\")\n",
    "    except:\n",
    "      print(\"🚨 pip not found\")\n",
    "\n",
    "  def check_conda(self):\n",
    "    # current conda version\n",
    "    try:\n",
    "      result = subprocess.run(['conda', '--version'], capture_output=True, text=True)\n",
    "      print(f\"Current conda version: {result.stdout.strip()}\")\n",
    "    except:\n",
    "      print(\"🚨 conda not found\")\n",
    "\n",
    "  def check_environment(self):\n",
    "    # current environment\n",
    "    try:\n",
    "      env = os.environ.get('CONDA_DEFAULT_ENV', 'No conda environment')\n",
    "      print(f\"Current environment: {env}\")\n",
    "    except:\n",
    "      print(\"🚨 Environment info not available\")\n",
    "\n",
    "  def check_git(self):\n",
    "    # current git version\n",
    "    try:\n",
    "      result = subprocess.run(['git', '--version'], capture_output=True, text=True)\n",
    "      print(f\"Current git version: {result.stdout.strip()}\")\n",
    "    except:\n",
    "      print(\"🚨 git not found\")\n",
    "\n",
    "  def check_jupyter(self):\n",
    "    # current jupyter version\n",
    "    try:\n",
    "      result = subprocess.run(['jupyter', '--version'], capture_output=True, text=True)\n",
    "      print(f\"Current jupyter version: {result.stdout.strip()}\")\n",
    "    except:\n",
    "      print(\"🚨 jupyter not found\")\n"
   ]
  },
  {
   "cell_type": "code",
   "execution_count": 7,
   "metadata": {},
   "outputs": [
    {
     "name": "stdout",
     "output_type": "stream",
     "text": [
      "Checking setup for IT2053C\n",
      "Current python version: 3.13.5 | packaged by conda-forge | (main, Jun 16 2025, 08:24:05) [Clang 18.1.8 ]\n",
      "Current pip version: pip 25.1.1 from /opt/anaconda3/envs/IT2053C/lib/python3.13/site-packages/pip (python 3.13)\n",
      "Current conda version: conda 25.5.1\n",
      "Current environment: IT2053C\n",
      "Current git version: git version 2.48.1\n",
      "Current jupyter version: Selected Jupyter core packages...\n",
      "IPython          : 9.3.0\n",
      "ipykernel        : 6.29.5\n",
      "ipywidgets       : 8.1.7\n",
      "jupyter_client   : 8.6.3\n",
      "jupyter_core     : 5.8.1\n",
      "jupyter_server   : not installed\n",
      "jupyterlab       : not installed\n",
      "nbclient         : 0.10.2\n",
      "nbconvert        : 7.16.6\n",
      "nbformat         : 5.10.4\n",
      "notebook         : not installed\n",
      "qtconsole        : not installed\n",
      "traitlets        : 5.14.3\n"
     ]
    }
   ],
   "source": [
    "setup_check = SetupCheck(\"IT2053C\")\n",
    "setup_check.check_setup()"
   ]
  },
  {
   "cell_type": "markdown",
   "metadata": {},
   "source": [
    "The following script converts the setup-checker.ipynb to a python script.\n",
    "\n",
    "When I review your code on GitHub, leaving comments on a notebook can be difficult. This is why we convert the notebook to a python script, so I can leave comments on the python script on GitHub."
   ]
  },
  {
   "cell_type": "code",
   "execution_count": 8,
   "metadata": {},
   "outputs": [
    {
     "name": "stdout",
     "output_type": "stream",
     "text": [
      "[NbConvertApp] Converting notebook setup-checker.ipynb to python\n",
      "[NbConvertApp] Writing 2433 bytes to setup-checker.py\n"
     ]
    }
   ],
   "source": [
    "!jupyter nbconvert --to python setup-checker.ipynb"
   ]
  }
 ],
 "metadata": {
  "kernelspec": {
   "display_name": "IT2053C",
   "language": "python",
   "name": "python3"
  },
  "language_info": {
   "codemirror_mode": {
    "name": "ipython",
    "version": 3
   },
   "file_extension": ".py",
   "mimetype": "text/x-python",
   "name": "python",
   "nbconvert_exporter": "python",
   "pygments_lexer": "ipython3",
   "version": "3.13.5"
  }
 },
 "nbformat": 4,
 "nbformat_minor": 2
}
